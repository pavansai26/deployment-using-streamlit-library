{
  "nbformat": 4,
  "nbformat_minor": 0,
  "metadata": {
    "colab": {
      "name": "bank note authentication.ipynb",
      "provenance": [],
      "private_outputs": true,
      "authorship_tag": "ABX9TyNDi16xhSzaOgrXwAj76mRL",
      "include_colab_link": true
    },
    "kernelspec": {
      "name": "python3",
      "display_name": "Python 3"
    }
  },
  "cells": [
    {
      "cell_type": "markdown",
      "metadata": {
        "id": "view-in-github",
        "colab_type": "text"
      },
      "source": [
        "<a href=\"https://colab.research.google.com/github/pavansai26/deployment-using-streamlit-library/blob/master/bank_note_authentication.ipynb\" target=\"_parent\"><img src=\"https://colab.research.google.com/assets/colab-badge.svg\" alt=\"Open In Colab\"/></a>"
      ]
    },
    {
      "cell_type": "code",
      "metadata": {
        "id": "evHi0Ot24gZ2",
        "colab_type": "code",
        "colab": {}
      },
      "source": [
        "from google.colab import drive\n",
        "drive.mount('/gdrive')"
      ],
      "execution_count": null,
      "outputs": []
    },
    {
      "cell_type": "code",
      "metadata": {
        "id": "5ESyQ6Bm5Il8",
        "colab_type": "code",
        "colab": {}
      },
      "source": [
        "import numpy as np\n",
        "import pandas as pd\n",
        "import seaborn as sns\n",
        "import matplotlib.pyplot as plt\n",
        "from sklearn.covariance import EllipticEnvelope"
      ],
      "execution_count": null,
      "outputs": []
    },
    {
      "cell_type": "code",
      "metadata": {
        "id": "JWSo0CYY5gml",
        "colab_type": "code",
        "colab": {}
      },
      "source": [
        "df= pd.read_csv('/gdrive/My Drive/datasets_84803_196262_BankNote_Authentication.csv')"
      ],
      "execution_count": null,
      "outputs": []
    },
    {
      "cell_type": "code",
      "metadata": {
        "id": "bIu5BsDk5-Ul",
        "colab_type": "code",
        "colab": {}
      },
      "source": [
        "df"
      ],
      "execution_count": null,
      "outputs": []
    },
    {
      "cell_type": "code",
      "metadata": {
        "id": "amDEK_8K5_qS",
        "colab_type": "code",
        "colab": {}
      },
      "source": [
        "df.shape"
      ],
      "execution_count": null,
      "outputs": []
    },
    {
      "cell_type": "code",
      "metadata": {
        "id": "2TcvawF66B_v",
        "colab_type": "code",
        "colab": {}
      },
      "source": [
        "df.info()"
      ],
      "execution_count": null,
      "outputs": []
    },
    {
      "cell_type": "code",
      "metadata": {
        "id": "jy62tVmE6GEd",
        "colab_type": "code",
        "colab": {}
      },
      "source": [
        "df.describe()"
      ],
      "execution_count": null,
      "outputs": []
    },
    {
      "cell_type": "code",
      "metadata": {
        "id": "6--q7MZtUYDo",
        "colab_type": "code",
        "colab": {}
      },
      "source": [
        "df.keys()"
      ],
      "execution_count": null,
      "outputs": []
    },
    {
      "cell_type": "code",
      "metadata": {
        "id": "XBoySLCnUfl7",
        "colab_type": "code",
        "colab": {}
      },
      "source": [
        "df.columns"
      ],
      "execution_count": null,
      "outputs": []
    },
    {
      "cell_type": "code",
      "metadata": {
        "id": "UBglU9KcVKKF",
        "colab_type": "code",
        "colab": {}
      },
      "source": [
        "df.count()"
      ],
      "execution_count": null,
      "outputs": []
    },
    {
      "cell_type": "code",
      "metadata": {
        "id": "Br2IthqZ6KNd",
        "colab_type": "code",
        "colab": {}
      },
      "source": [
        "df.isnull().sum()"
      ],
      "execution_count": null,
      "outputs": []
    },
    {
      "cell_type": "markdown",
      "metadata": {
        "id": "qURTMAMPNUG_",
        "colab_type": "text"
      },
      "source": [
        "**dimensionality reduction**"
      ]
    },
    {
      "cell_type": "code",
      "metadata": {
        "id": "FDIxFMEnNSVl",
        "colab_type": "code",
        "colab": {}
      },
      "source": [
        "import umap\n",
        "reducer=umap.UMAP()"
      ],
      "execution_count": null,
      "outputs": []
    },
    {
      "cell_type": "code",
      "metadata": {
        "id": "Ztxrcmtn6cdD",
        "colab_type": "code",
        "colab": {}
      },
      "source": [
        "x=df.iloc[:,:-1]\n",
        "y=df.iloc[:,-1]"
      ],
      "execution_count": null,
      "outputs": []
    },
    {
      "cell_type": "code",
      "metadata": {
        "id": "f1QUANnyR4Ov",
        "colab_type": "code",
        "colab": {}
      },
      "source": [
        "\n",
        "embedding=reducer.fit_transform(x)"
      ],
      "execution_count": null,
      "outputs": []
    },
    {
      "cell_type": "code",
      "metadata": {
        "id": "yyZTzfGUR_kh",
        "colab_type": "code",
        "colab": {}
      },
      "source": [
        "embedding.shape"
      ],
      "execution_count": null,
      "outputs": []
    },
    {
      "cell_type": "code",
      "metadata": {
        "id": "aDf6QUDB67NN",
        "colab_type": "code",
        "colab": {}
      },
      "source": [
        "x.head()"
      ],
      "execution_count": null,
      "outputs": []
    },
    {
      "cell_type": "code",
      "metadata": {
        "id": "Fe_2XJ3jSHq9",
        "colab_type": "code",
        "colab": {}
      },
      "source": [
        "plt.scatter(embedding[:,0],embedding[:,1])\n",
        "plt.gca().set_aspect('equal','datalim')\n",
        "plt.title('UMAP PROJECTION OF THE  DATA', fontsize=24)"
      ],
      "execution_count": null,
      "outputs": []
    },
    {
      "cell_type": "code",
      "metadata": {
        "id": "yU1jEKoT7Bv3",
        "colab_type": "code",
        "colab": {}
      },
      "source": [
        "y.head()"
      ],
      "execution_count": null,
      "outputs": []
    },
    {
      "cell_type": "code",
      "metadata": {
        "id": "YGhxX3jKVbcf",
        "colab_type": "code",
        "colab": {}
      },
      "source": [
        "qv1=df.iloc[:,0].quantile(0.25) # get quantile values and  iqr for outlier limits\n",
        "qv1"
      ],
      "execution_count": null,
      "outputs": []
    },
    {
      "cell_type": "code",
      "metadata": {
        "id": "O7g_bUCiVplz",
        "colab_type": "code",
        "colab": {}
      },
      "source": [
        "qv2=df.iloc[:,0].quantile(0.5)\n",
        "qv2"
      ],
      "execution_count": null,
      "outputs": []
    },
    {
      "cell_type": "code",
      "metadata": {
        "id": "FfaepCT9VuMC",
        "colab_type": "code",
        "colab": {}
      },
      "source": [
        "qv3=df.iloc[:,0].quantile(0.75)\n",
        "qv3"
      ],
      "execution_count": null,
      "outputs": []
    },
    {
      "cell_type": "code",
      "metadata": {
        "id": "wwAQqFeOWAmm",
        "colab_type": "code",
        "colab": {}
      },
      "source": [
        "qv_limit=1.5*(qv3-qv1)\n",
        "qv_limit"
      ],
      "execution_count": null,
      "outputs": []
    },
    {
      "cell_type": "code",
      "metadata": {
        "id": "BBBt5dFFWQiI",
        "colab_type": "code",
        "colab": {}
      },
      "source": [
        "\n",
        "un_outliers_mask=(df.iloc[:,0]>qv3+qv_limit) | (df.iloc[:,0]<qv1-qv_limit)\n",
        "print(un_outliers_mask[:20])"
      ],
      "execution_count": null,
      "outputs": []
    },
    {
      "cell_type": "code",
      "metadata": {
        "id": "c41gVF3MWUhx",
        "colab_type": "code",
        "colab": {}
      },
      "source": [
        "\n",
        "un_outliers_data=df.iloc[:,0][un_outliers_mask]\n",
        "print(un_outliers_data[:50])"
      ],
      "execution_count": null,
      "outputs": []
    },
    {
      "cell_type": "code",
      "metadata": {
        "id": "YTEhaHTLWhe1",
        "colab_type": "code",
        "colab": {}
      },
      "source": [
        "import pylab\n",
        "fig=pylab.figure(figsize=(6,6))\n",
        "ax=fig.add_subplot(1,1,1)\n",
        "for name,y in zip(un_outliers_mask,un_outliers_data):\n",
        "  ax.text(1,y,name)\n",
        "ax.boxplot(df.iloc[:,0])\n",
        "#ax.set_ylabel(df.iloc[:,0])"
      ],
      "execution_count": null,
      "outputs": []
    },
    {
      "cell_type": "code",
      "metadata": {
        "id": "4hvcKQd1W1SQ",
        "colab_type": "code",
        "colab": {}
      },
      "source": [
        ""
      ],
      "execution_count": null,
      "outputs": []
    },
    {
      "cell_type": "code",
      "metadata": {
        "id": "Zq_YVmENW6-1",
        "colab_type": "code",
        "colab": {}
      },
      "source": [
        ""
      ],
      "execution_count": null,
      "outputs": []
    },
    {
      "cell_type": "code",
      "metadata": {
        "id": "yDRpJZbCXGjC",
        "colab_type": "code",
        "colab": {}
      },
      "source": [
        ""
      ],
      "execution_count": null,
      "outputs": []
    },
    {
      "cell_type": "markdown",
      "metadata": {
        "id": "-nKoqvyjW3HG",
        "colab_type": "text"
      },
      "source": [
        "\n",
        "bivariate outliers: create a scatterplot with an ellipse as a boundary for outliers."
      ]
    },
    {
      "cell_type": "code",
      "metadata": {
        "id": "ajJHaDLAXIGW",
        "colab_type": "code",
        "colab": {}
      },
      "source": [
        "params=[df.iloc[:,0],df.iloc[:,1]]\n",
        "params_data=np.array([df.iloc[:,0],df.iloc[:,1]]).T"
      ],
      "execution_count": null,
      "outputs": []
    },
    {
      "cell_type": "code",
      "metadata": {
        "id": "mmfWtTzaXLC5",
        "colab_type": "code",
        "colab": {}
      },
      "source": [
        ""
      ],
      "execution_count": null,
      "outputs": []
    },
    {
      "cell_type": "markdown",
      "metadata": {
        "id": "yzsgP8VCXOjT",
        "colab_type": "text"
      },
      "source": [
        "\n",
        "compute the elliptical envelope"
      ]
    },
    {
      "cell_type": "code",
      "metadata": {
        "id": "4cxYIsDPXUgc",
        "colab_type": "code",
        "colab": {}
      },
      "source": [
        "ee=EllipticEnvelope()\n",
        "ee.fit(params_data)"
      ],
      "execution_count": null,
      "outputs": []
    },
    {
      "cell_type": "code",
      "metadata": {
        "id": "_2S257qXX3mq",
        "colab_type": "code",
        "colab": {}
      },
      "source": [
        "biv_outliers_mask=ee.predict(params_data)== -1"
      ],
      "execution_count": null,
      "outputs": []
    },
    {
      "cell_type": "code",
      "metadata": {
        "id": "Bx_c29kwYjur",
        "colab_type": "code",
        "colab": {}
      },
      "source": [
        "(biv_outliers_mask)"
      ],
      "execution_count": null,
      "outputs": []
    },
    {
      "cell_type": "code",
      "metadata": {
        "id": "2UGYc3VMYpoK",
        "colab_type": "code",
        "colab": {}
      },
      "source": [
        "biv_outliers_data=params_data[biv_outliers_mask]"
      ],
      "execution_count": null,
      "outputs": []
    },
    {
      "cell_type": "code",
      "metadata": {
        "id": "HVhtzcjYYvgc",
        "colab_type": "code",
        "colab": {}
      },
      "source": [
        "biv_outliers_data"
      ],
      "execution_count": null,
      "outputs": []
    },
    {
      "cell_type": "code",
      "metadata": {
        "id": "Qg9jcPTjY7lt",
        "colab_type": "code",
        "colab": {}
      },
      "source": [
        "xx,yy=np.meshgrid(np.linspace(params_data[:,0].min(),params_data[:,0].max(),100),np.linspace(params_data[:,1].min(),params_data[:,1].max(),100))"
      ],
      "execution_count": null,
      "outputs": []
    },
    {
      "cell_type": "code",
      "metadata": {
        "id": "FK5Q4yjwY7_Y",
        "colab_type": "code",
        "colab": {}
      },
      "source": [
        "zz=ee.decision_function(np.c_[xx.ravel(),yy.ravel()])\n",
        "zz=zz.reshape(xx.shape)"
      ],
      "execution_count": null,
      "outputs": []
    },
    {
      "cell_type": "code",
      "metadata": {
        "id": "l8K6JnHzY8ST",
        "colab_type": "code",
        "colab": {}
      },
      "source": [
        "#draw the scatterplot with the elliptical envelope and label the outliers"
      ],
      "execution_count": null,
      "outputs": []
    },
    {
      "cell_type": "code",
      "metadata": {
        "id": "htRziYF8ZIF5",
        "colab_type": "code",
        "colab": {}
      },
      "source": [
        "fig=pylab.figure(figsize=(10,10))\n",
        "ax=fig.add_subplot(1,1,1)\n",
        "for name,xy in zip(biv_outliers_mask[:50],biv_outliers_data[:50]):\n",
        "  ax.text(xy[0],xy[1],name)\n",
        "ax.contour(xx,yy,zz,levels=[0],linewidth=2)\n",
        "ax.scatter(params_data[:,0],params_data[:,1],color='red')"
      ],
      "execution_count": null,
      "outputs": []
    },
    {
      "cell_type": "code",
      "metadata": {
        "id": "r1_HGiN-ZX6r",
        "colab_type": "code",
        "colab": {}
      },
      "source": [
        "#ellipse is obtained with the data outside the ellipse data points called outliers. but ellipse is not visible."
      ],
      "execution_count": null,
      "outputs": []
    },
    {
      "cell_type": "code",
      "metadata": {
        "id": "R1keprtD7EKI",
        "colab_type": "code",
        "colab": {}
      },
      "source": [
        "from sklearn.model_selection import train_test_split"
      ],
      "execution_count": null,
      "outputs": []
    },
    {
      "cell_type": "code",
      "metadata": {
        "id": "mWFWZmGrY3KV",
        "colab_type": "code",
        "colab": {}
      },
      "source": [
        ""
      ],
      "execution_count": null,
      "outputs": []
    },
    {
      "cell_type": "code",
      "metadata": {
        "id": "1uWO_4_r7PrC",
        "colab_type": "code",
        "colab": {}
      },
      "source": [
        "x_train,x_test,y_train,y_test=train_test_split(x,y,test_size=0.3,random_state=0)"
      ],
      "execution_count": null,
      "outputs": []
    },
    {
      "cell_type": "code",
      "metadata": {
        "id": "jm9jmu0S7l_m",
        "colab_type": "code",
        "colab": {}
      },
      "source": [
        "from sklearn.ensemble import RandomForestClassifier\n",
        "classifier = RandomForestClassifier()\n",
        "classifier.fit(x_train,y_train)"
      ],
      "execution_count": null,
      "outputs": []
    },
    {
      "cell_type": "code",
      "metadata": {
        "id": "1m0GqvDr8geo",
        "colab_type": "code",
        "colab": {}
      },
      "source": [
        "y_pred= classifier.predict(x_test)"
      ],
      "execution_count": null,
      "outputs": []
    },
    {
      "cell_type": "code",
      "metadata": {
        "id": "H3KtqsgQ8tno",
        "colab_type": "code",
        "colab": {}
      },
      "source": [
        "from sklearn.metrics import accuracy_score\n",
        "score = accuracy_score(y_test,y_pred)"
      ],
      "execution_count": null,
      "outputs": []
    },
    {
      "cell_type": "code",
      "metadata": {
        "id": "MRQU5cO-8-Mx",
        "colab_type": "code",
        "colab": {}
      },
      "source": [
        "score"
      ],
      "execution_count": null,
      "outputs": []
    },
    {
      "cell_type": "code",
      "metadata": {
        "id": "-WZz0MzE8_yq",
        "colab_type": "code",
        "colab": {}
      },
      "source": [
        "classifier.predict([[2,3,4,1]])"
      ],
      "execution_count": null,
      "outputs": []
    },
    {
      "cell_type": "code",
      "metadata": {
        "id": "Xz-j_uAJ9NvW",
        "colab_type": "code",
        "colab": {}
      },
      "source": [
        "import pickle\n",
        "pickle_out=open('classifier.pkl','wb')\n",
        "pickle.dump(classifier,pickle_out)\n",
        "pickle_out.close()"
      ],
      "execution_count": null,
      "outputs": []
    },
    {
      "cell_type": "code",
      "metadata": {
        "id": "9W_fvOFZ9rm3",
        "colab_type": "code",
        "colab": {}
      },
      "source": [
        "pip install streamlit"
      ],
      "execution_count": null,
      "outputs": []
    },
    {
      "cell_type": "code",
      "metadata": {
        "id": "CkdtOxBIFn2B",
        "colab_type": "code",
        "colab": {}
      },
      "source": [
        "import streamlit as st"
      ],
      "execution_count": null,
      "outputs": []
    },
    {
      "cell_type": "code",
      "metadata": {
        "id": "xyUGRiDlFyxj",
        "colab_type": "code",
        "colab": {}
      },
      "source": [
        "pickle_in = open(\"classifier.pkl\",\"rb\")\n",
        "classifier=pickle.load(pickle_in)"
      ],
      "execution_count": null,
      "outputs": []
    },
    {
      "cell_type": "code",
      "metadata": {
        "id": "U18ag7H1Go7j",
        "colab_type": "code",
        "colab": {}
      },
      "source": [
        "def predict_note_authentication(variance,skewness,curtosis,entropy):\n",
        "  prediction=classifier.predict([[variance,skewness,curtosis,entropy]])\n",
        "  print(prediction)\n",
        "  return prediction"
      ],
      "execution_count": null,
      "outputs": []
    },
    {
      "cell_type": "code",
      "metadata": {
        "id": "hUh2P6amHJBI",
        "colab_type": "code",
        "colab": {}
      },
      "source": [
        "def main():\n",
        "  st.title('bank authenticator')\n",
        "  html_temp='''\n",
        "  <div style= \"background-color:tomato;padding:10px\">\n",
        "  <h2 style=\"color:white;text-align:center;\">Streamlit Bank Authenticator ML App </h2>\n",
        "  </div>'''\n",
        "  st.markdown(html_temp,unsafe_allow_html=True)\n",
        "  variance = st.text_input(\"Variance\",\"Type Here\")\n",
        "  skewness = st.text_input(\"skewness\",\"Type Here\")\n",
        "  curtosis = st.text_input(\"curtosis\",\"Type Here\")\n",
        "  entropy = st.text_input(\"entropy\",\"Type Here\")\n",
        "  result=\"\"\n",
        "  if st.button(\"Predict\"):\n",
        "      result=predict_note_authentication(variance,skewness,curtosis,entropy)\n",
        "  st.success('The output is {}'.format(result))\n",
        "  if st.button(\"About\"):\n",
        "      st.text(\"Lets LEarn\")\n",
        "      st.text(\"Built with Streamlit\")\n",
        "\n",
        "if __name__=='__main__':\n",
        "    main()\n",
        "    \n"
      ],
      "execution_count": null,
      "outputs": []
    },
    {
      "cell_type": "code",
      "metadata": {
        "id": "-pjNxJdeJ-vr",
        "colab_type": "code",
        "colab": {}
      },
      "source": [
        ""
      ],
      "execution_count": null,
      "outputs": []
    }
  ]
}